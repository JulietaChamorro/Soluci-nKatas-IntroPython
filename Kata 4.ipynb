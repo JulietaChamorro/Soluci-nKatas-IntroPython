{
 "cells": [
  {
   "cell_type": "markdown",
   "metadata": {},
   "source": [
    "KATA 4\n",
    "Cadenas"
   ]
  },
  {
   "cell_type": "code",
   "execution_count": 2,
   "metadata": {},
   "outputs": [
    {
     "name": "stdout",
     "output_type": "stream",
     "text": [
      "Facts about the Moon:\n",
      " There is no atmosphere.\n",
      " There is no sound.\n"
     ]
    }
   ],
   "source": [
    "multiline = \"Facts about the Moon:\\n There is no atmosphere.\\n There is no sound.\"\n",
    "print(multiline)"
   ]
  },
  {
   "cell_type": "code",
   "execution_count": 5,
   "metadata": {},
   "outputs": [
    {
     "data": {
      "text/plain": [
       "['Daylight:', '260', 'F', 'Nighttime:', '-280', 'F']"
      ]
     },
     "execution_count": 5,
     "metadata": {},
     "output_type": "execute_result"
    }
   ],
   "source": [
    "temperatures = '''Daylight: 260 F\n",
    "... Nighttime: -280 F'''\n",
    "temperatures .split()"
   ]
  },
  {
   "cell_type": "code",
   "execution_count": 6,
   "metadata": {},
   "outputs": [
    {
     "name": "stdout",
     "output_type": "stream",
     "text": [
      "On the Moon, you would weigh about 1/6 of your weight on Earth\n"
     ]
    }
   ],
   "source": [
    "mass_percentage = '1/6'\n",
    "print('On the Moon, you would weigh about %s of your weight on Earth' % mass_percentage)"
   ]
  },
  {
   "cell_type": "code",
   "execution_count": 6,
   "metadata": {},
   "outputs": [
    {
     "name": "stdout",
     "output_type": "stream",
     "text": [
      "Interesting facts about the Moon\n",
      "The Moon is Earth's only satellite\n",
      "There are several interesting facts about the Moon and how it affects life here on Earth\n",
      "On average, the Moon moves 4cm away from the Earth every year\n",
      "On average, the Moon moves 4cm away from the Earth every year\n",
      "['Interesting facts about the Moon', \"The Moon is Earth's only satellite\", 'There are several interesting facts about the Moon and how it affects life here on Earth', 'On average, the Moon moves 4cm away from the Earth every year', 'This yearly drift is not significant enough to cause immediate effects on Earth', 'The highest dayligh']\n"
     ]
    }
   ],
   "source": [
    "#Ejercicio 1 Separar oraciones.\n",
    "text = \"\"\"Interesting facts about the Moon. The Moon is Earth's only satellite. There are several interesting facts about the Moon and how it affects life here on Earth. On average, the Moon moves 4cm away from the Earth every year. This yearly drift is not significant enough to cause immediate effects on Earth. The highest dayligh\"\"\"\n",
    "textPartes= text.split('. ')\n",
    "textPartes\n",
    "#Palabras clave\n",
    "palabrasClave = [\"average\", \"Moon\", \"satellite\"]\n",
    "for i in textPartes:\n",
    "    for palabraClave in palabrasClave:\n",
    "        if palabraClave in i:\n",
    "            print(i)\n",
    "            break\n",
    "\n",
    "#Sustituir C a Celsius\n",
    "\n",
    "for i in textPartes:\n",
    "    for palabraClave in palabrasClave:\n",
    "        if palabraClave in i:\n",
    "            print(i.replace('C','Celsius'))\n",
    "        break\n",
    "print(textPartes)"
   ]
  },
  {
   "cell_type": "code",
   "execution_count": 15,
   "metadata": {},
   "outputs": [
    {
     "name": "stdout",
     "output_type": "stream",
     "text": [
      "Gravedad En Moon\n",
      "-------------------------------------------------- \n",
      "Nombre del planeta: Earth \n",
      "Gravedad en Moon: 1.6199999999999999m/s\n",
      "\n",
      "Gravedad en Ganímedes\n",
      "--------------------------------------------------\n",
      "Nombre del planeta: Marte\n",
      "Gravedad en Ganímedes: 1.4300000000000002 m/s\n",
      "\n"
     ]
    }
   ],
   "source": [
    "#Ejercicio 2. Formateado Cadenas\n",
    "#Datos\n",
    "name = 'Moon'\n",
    "gravity = 0.00162 # en Km/s\n",
    "planet = 'Earth'\n",
    "\n",
    "#Titulo\n",
    "encabezado = f\"Gravedad en {name}\\n\"\n",
    "encabezado.title()\n",
    "\n",
    "#Plantilla \n",
    "Datos = f\"\"\"{'-'*50} \n",
    "Nombre del planeta: {planet} \n",
    "Gravedad en {name}: {gravity *1000}{ 'm/s'}\"\"\"\n",
    "\n",
    "#Unión \n",
    "plantilla = f\"\"\"{encabezado.title()}{Datos}\"\"\"\n",
    "\n",
    "#Imprimimos \n",
    "print(plantilla)\n",
    "\n",
    "#Nuevos datos\n",
    "name = \"Ganímedes\"\n",
    "planet = 'Marte'\n",
    "gravity = 0.00143\n",
    "\n",
    "#Nueva plantilla\n",
    "nuevaplantilla = f\"\"\"\n",
    "Gravedad en {name}\n",
    "{'-'*50}\n",
    "Nombre del planeta: {planet}\n",
    "Gravedad en {name}: {gravity*1000} m/s\n",
    "\"\"\"\n",
    "print(nuevaplantilla.format(name=name, planet=planet, gravity=gravity))"
   ]
  }
 ],
 "metadata": {
  "interpreter": {
   "hash": "516feca2711a0c385b111ca013e3d85f51f49e56da76efb52a4211307f1ae715"
  },
  "kernelspec": {
   "display_name": "Python 3.10.2 64-bit",
   "language": "python",
   "name": "python3"
  },
  "language_info": {
   "codemirror_mode": {
    "name": "ipython",
    "version": 3
   },
   "file_extension": ".py",
   "mimetype": "text/x-python",
   "name": "python",
   "nbconvert_exporter": "python",
   "pygments_lexer": "ipython3",
   "version": "3.10.2"
  },
  "orig_nbformat": 4
 },
 "nbformat": 4,
 "nbformat_minor": 2
}
