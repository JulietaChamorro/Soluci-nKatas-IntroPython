{
 "cells": [
  {
   "cell_type": "markdown",
   "metadata": {},
   "source": [
    "KATA 9."
   ]
  },
  {
   "cell_type": "code",
   "execution_count": 8,
   "metadata": {},
   "outputs": [
    {
     "name": "stdout",
     "output_type": "stream",
     "text": [
      "El promedio de las lecturas del tanque esta en: 8.333333333333334\n",
      "\n",
      "Reporte:\n",
      "    Promedio tanque: 8.333333333333334 %\n"
     ]
    }
   ],
   "source": [
    "#Ejercicio 1. Combustible\n",
    "\n",
    "def Tanque (primeraLectura, segundaLectura, terceraLectura):\n",
    "    prom = (primeraLectura + segundaLectura + terceraLectura) / 3\n",
    "    return prom\n",
    "\n",
    "print ('El promedio de las lecturas del tanque esta en:',Tanque(10,8,7))\n",
    "\n",
    "\n",
    "#Funcion para el promedio\n",
    "\n",
    "def prom (valores):\n",
    "    total = sum(valores)\n",
    "    numeroDatos = len(valores)\n",
    "    return total / numeroDatos\n",
    "\n",
    "def Tanque (primeraLectura, segundaLectura, terceraLectura):\n",
    "\n",
    "    return f\"\"\"\\nReporte:\n",
    "    Promedio tanque: {prom([primeraLectura,segundaLectura,terceraLectura])} %\"\"\"\n",
    "print (Tanque(10,8,7))"
   ]
  },
  {
   "cell_type": "code",
   "execution_count": 8,
   "metadata": {},
   "outputs": [
    {
     "name": "stdout",
     "output_type": "stream",
     "text": [
      "REPORTE DE MISION:\n",
      "    Destino: Marte\n",
      "    Tiempo de vuelo: 24 minutos\n",
      "    Duración de misión: 35 minutos\n",
      "    Porcentaje de combustible: 55.0\n",
      "REPORTE DE MISION:\n",
      "    Destino: Moon\n",
      "    Hora de lanzamiento: 14 minutos\n",
      "    Tiempo de vuelo: 65 minutos\n",
      "    Tanque de combustible: 15000\n",
      "REPORTE DE MISION:\n",
      "    Destino: Moon\n",
      "    Hora de lanzamiento: 14 minutos\n",
      "    Tiempo de vuelo: 65 minutos\n",
      "    Tanque de combustible: 15000\n",
      "    El Tanque tExterno contiene 10000 litros.\n"
     ]
    }
   ],
   "source": [
    "#Ejercicio 2. \n",
    "\n",
    "def detalleMision (horaL, tiempoV, destino, tExterno, tInterno):\n",
    "    return f\"\"\"REPORTE DE MISION:\n",
    "    Destino: {destino}\n",
    "    Tiempo de vuelo: {tiempoV} minutos\n",
    "    Duración de misión: {horaL + tiempoV } minutos\n",
    "    Porcentaje de combustible: {(tExterno + tInterno)/2}\"\"\"\n",
    "\n",
    "\n",
    "print(detalleMision(11,24,'Marte',60,50))\n",
    "\n",
    "#\n",
    "\n",
    "def detalleMision (horaL, destino,*minutosV, **combustible):\n",
    "    return f\"\"\"REPORTE DE MISION:\n",
    "    Destino: {destino}\n",
    "    Hora de lanzamiento: {horaL} minutos\n",
    "    Tiempo de vuelo: {sum(minutosV) } minutos\n",
    "    Tanque de combustible: {sum(combustible.values())}\"\"\"\n",
    "\n",
    "\n",
    "print(detalleMision(14,\"Moon\",10, 15, 40, tExterno = 10000, tInterno = 5000))\n",
    "\n",
    "#imprimir el nombre de cada tanque\n",
    "def detalleMision (horaL, destino,*minutosV, **combustible):\n",
    "    datosMision = f\"\"\"REPORTE DE MISION:\n",
    "    Destino: {destino}\n",
    "    Hora de lanzamiento: {horaL} minutos\n",
    "    Tiempo de vuelo: {sum(minutosV) } minutos\n",
    "    Tanque de combustible: {sum(combustible.values())}\n",
    "    \"\"\"\n",
    "\n",
    "    for nombreT, litros in combustible.items():\n",
    "        datosMision += f\"El Tanque {nombreT} contiene {litros} litros.\"\n",
    "        return datosMision\n",
    "\n",
    "\n",
    "\n",
    "print(detalleMision(14,\"Moon\",10, 15, 40, tExterno = 10000, tInterno = 5000))\n"
   ]
  }
 ],
 "metadata": {
  "interpreter": {
   "hash": "6e00d3e471232d272dcda010f99fe02690f01f4cee54b9e7192a33a2b2ee84c8"
  },
  "kernelspec": {
   "display_name": "Python 3.10.2 64-bit (windows store)",
   "language": "python",
   "name": "python3"
  },
  "language_info": {
   "codemirror_mode": {
    "name": "ipython",
    "version": 3
   },
   "file_extension": ".py",
   "mimetype": "text/x-python",
   "name": "python",
   "nbconvert_exporter": "python",
   "pygments_lexer": "ipython3",
   "version": "3.10.2"
  },
  "orig_nbformat": 4
 },
 "nbformat": 4,
 "nbformat_minor": 2
}
