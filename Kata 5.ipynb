{
 "cells": [
  {
   "cell_type": "markdown",
   "metadata": {},
   "source": [
    "KATA 5\n",
    "Operadores aritméticos"
   ]
  },
  {
   "cell_type": "code",
   "execution_count": 3,
   "metadata": {},
   "outputs": [
    {
     "name": "stdout",
     "output_type": "stream",
     "text": [
      "La distancia entre los planetas es: 628949330 km o lo mismo que 390577533.93 millas\n"
     ]
    }
   ],
   "source": [
    "#Ejercicio 1. Operadores aritméticos\n",
    "#Declaración de variables\n",
    "tierra = 149597870\n",
    "jupiter = 778547200\n",
    "\n",
    "\n",
    "#Distancia entre planetas\n",
    "distancia = (jupiter - tierra)\n",
    "print('La distancia entre los planetas es:', distancia, 'km o lo mismo que', distancia*0.621,'millas')"
   ]
  },
  {
   "cell_type": "code",
   "execution_count": 8,
   "metadata": {},
   "outputs": [
    {
     "name": "stdout",
     "output_type": "stream",
     "text": [
      "Calculadora De Distancia Entre Planetas \n",
      "La distancia entre los dos planetas es:  957999900 km o lo mismo que 594917937.9 millas\n"
     ]
    }
   ],
   "source": [
    "#Ejercicio 2. Covertir cadenas en números y usar valores absolutos\n",
    "\n",
    "#Almacenar datos del usuario\n",
    "Titulo = \"Calculadora de distancia entre planetas\"\n",
    "Titulo.title()\n",
    "primerPlaneta = input(\"Ingresa la distancia del sol al primer planeta: \")\n",
    "segundoPlaneta = input (\" Ingresa la distancia del sol al segundo planeta: \")\n",
    "\n",
    "#Conversión de cadenas a enteros\n",
    "planetaUno = int(primerPlaneta)\n",
    "planetaDos = int(segundoPlaneta)\n",
    "\n",
    "#Calculo de distancia\n",
    "\n",
    "distancia = abs(planetaUno - planetaDos)\n",
    "print(f'{Titulo.title()} \\nLa distancia entre los dos planetas es: ', distancia, 'km o lo mismo que', distancia*0.621, 'millas')\n",
    "\n"
   ]
  }
 ],
 "metadata": {
  "interpreter": {
   "hash": "6e00d3e471232d272dcda010f99fe02690f01f4cee54b9e7192a33a2b2ee84c8"
  },
  "kernelspec": {
   "display_name": "Python 3.10.2 64-bit (windows store)",
   "language": "python",
   "name": "python3"
  },
  "language_info": {
   "codemirror_mode": {
    "name": "ipython",
    "version": 3
   },
   "file_extension": ".py",
   "mimetype": "text/x-python",
   "name": "python",
   "nbconvert_exporter": "python",
   "pygments_lexer": "ipython3",
   "version": "3.10.2"
  },
  "orig_nbformat": 4
 },
 "nbformat": 4,
 "nbformat_minor": 2
}
