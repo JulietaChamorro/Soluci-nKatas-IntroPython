{
 "cells": [
  {
   "cell_type": "markdown",
   "metadata": {},
   "source": [
    "KATA 6. "
   ]
  },
  {
   "cell_type": "code",
   "execution_count": 2,
   "metadata": {},
   "outputs": [
    {
     "name": "stdout",
     "output_type": "stream",
     "text": [
      "La lista de planetas esta conformada por:  ['Mercurio', 'Venus', 'Tierra', 'Marte', 'Júpiter', 'Saturno', 'Urano', 'Neptuno']\n",
      "Número de planetas:  8\n",
      "['Mercurio', 'Venus', 'Tierra', 'Marte', 'Júpiter', 'Saturno', 'Urano', 'Neptuno', 'Pluton']\n"
     ]
    }
   ],
   "source": [
    "#Ejercicio 1. Usar listas para almacenar nombres de planetas\n",
    "#crear lista\n",
    "\n",
    "planets = ['Mercurio', 'Venus', 'Tierra', 'Marte', 'Júpiter', 'Saturno', 'Urano','Neptuno']\n",
    "print('La lista de planetas esta conformada por: ',planets)\n",
    "numeroPlanetas = len(planets)\n",
    "print('Número de planetas: ', numeroPlanetas)\n",
    "\n",
    "#Agregar a pluton al final\n",
    "planets.append('Pluton')\n",
    "print(planets)\n"
   ]
  },
  {
   "cell_type": "code",
   "execution_count": 4,
   "metadata": {},
   "outputs": [
    {
     "name": "stdout",
     "output_type": "stream",
     "text": [
      "Los planetas mas cercanos al sol apartir del planeta que ingresaste son:\n",
      " ['Mercurio', 'Venus', 'Tierra']\n",
      "Los planetas mas lejanos al sol apartir del planeta que ingresaste son:\n",
      " ['Júpiter', 'Saturno', 'Urano', 'Neptuno']\n"
     ]
    }
   ],
   "source": [
    "#Ejercicio 2. \n",
    "#crear lista\n",
    "planets = ['Mercurio', 'Venus', 'Tierra', 'Marte', 'Júpiter', 'Saturno', 'Urano','Neptuno']\n",
    "Newplanet = input('Iniciando con mayuscula, ingrese el nombre de un planeta: ')\n",
    "planets_index = planets.index(Newplanet)\n",
    "print ('Los planetas mas cercanos al sol apartir del planeta que ingresaste son:\\n',planets[0:planets_index])\n",
    "print ('Los planetas mas lejanos al sol apartir del planeta que ingresaste son:\\n',planets[planets_index + 1:])\n",
    "\n"
   ]
  }
 ],
 "metadata": {
  "interpreter": {
   "hash": "6e00d3e471232d272dcda010f99fe02690f01f4cee54b9e7192a33a2b2ee84c8"
  },
  "kernelspec": {
   "display_name": "Python 3.10.2 64-bit (windows store)",
   "language": "python",
   "name": "python3"
  },
  "language_info": {
   "codemirror_mode": {
    "name": "ipython",
    "version": 3
   },
   "file_extension": ".py",
   "mimetype": "text/x-python",
   "name": "python",
   "nbconvert_exporter": "python",
   "pygments_lexer": "ipython3",
   "version": "3.10.2"
  },
  "orig_nbformat": 4
 },
 "nbformat": 4,
 "nbformat_minor": 2
}
